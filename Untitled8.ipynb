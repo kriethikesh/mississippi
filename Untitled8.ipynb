{
  "nbformat": 4,
  "nbformat_minor": 0,
  "metadata": {
    "colab": {
      "provenance": []
    },
    "kernelspec": {
      "name": "python3",
      "display_name": "Python 3"
    },
    "language_info": {
      "name": "python"
    }
  },
  "cells": [
    {
      "cell_type": "code",
      "execution_count": 1,
      "metadata": {
        "colab": {
          "base_uri": "https://localhost:8080/"
        },
        "id": "bmQjsgtwezNB",
        "outputId": "2130f4e7-fd99-4bd5-a535-30980b360fc5"
      },
      "outputs": [
        {
          "output_type": "stream",
          "name": "stdout",
          "text": [
            "1\n",
            "4\n",
            "7\n",
            "10\n"
          ]
        }
      ],
      "source": [
        "word = \"mississippi\"\n",
        "\n",
        "for i in range(len(word)):\n",
        "    if word[i] == 'i':\n",
        "        print(i)\n"
      ]
    }
  ]
}